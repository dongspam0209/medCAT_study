{
  "cells": [
    {
      "cell_type": "markdown",
      "metadata": {
        "id": "view-in-github",
        "colab_type": "text"
      },
      "source": [
        "<a href=\"https://colab.research.google.com/github/dongspam0209/medCAT_study/blob/main/MedCAT_Tutorial_%7C_Part_2_Dataset_Analysis_and_Preparation.ipynb\" target=\"_parent\"><img src=\"https://colab.research.google.com/assets/colab-badge.svg\" alt=\"Open In Colab\"/></a>"
      ]
    },
    {
      "cell_type": "markdown",
      "metadata": {
        "id": "vhiUZ8851mhW"
      },
      "source": [
        "# MedCAT tutorial - Dataset Analysis and Preparation\n",
        "\n",
        "Welcome to the MedCAT tutorials!\n",
        "\n",
        "First before be begin extracting information from with patient records.\n",
        "As with the begining of every datascience project. Let's explore the data that we are dealing with.\n",
        "\n"
      ]
    },
    {
      "cell_type": "code",
      "execution_count": null,
      "metadata": {
        "id": "7SoD_jahU16R"
      },
      "outputs": [],
      "source": [
        "import numpy as np\n",
        "import pandas as pd\n",
        "import seaborn as sns\n",
        "import matplotlib.pyplot as plt"
      ]
    },
    {
      "cell_type": "code",
      "execution_count": null,
      "metadata": {
        "id": "XhWuQ85eadQL"
      },
      "outputs": [],
      "source": [
        "%matplotlib inline"
      ]
    },
    {
      "cell_type": "markdown",
      "metadata": {
        "id": "WodlSMPEadQO"
      },
      "source": [
        "### Datasets\n",
        "\n",
        "If you are using MIMIC-III you will have the create the create the `patients.csv` and `noteevents.csv` and place them into the folder specified below. How to prepare the CSV files is explained in the blog post [MedCAT | Dataset Analysis and Preparation](https://towardsdatascience.com/medcat-dataset-analysis-and-preparation-be8bc910bd6d)."
      ]
    },
    {
      "cell_type": "code",
      "execution_count": null,
      "metadata": {
        "id": "QOf7zPp-adQP"
      },
      "outputs": [],
      "source": [
        "DATA_DIR = \"./data_p2/\"\n",
        "! DATA_DIR=\"./data_p2/\""
      ]
    },
    {
      "cell_type": "markdown",
      "metadata": {
        "id": "DfHK0VuybBEf"
      },
      "source": [
        "### Download the data (only if using the pre-made datasets and not MIMIC-III)"
      ]
    },
    {
      "cell_type": "code",
      "execution_count": null,
      "metadata": {
        "id": "kMwoQNQYUs3_"
      },
      "outputs": [],
      "source": [
        "# Load files if in google colab, otherwise skip this step\n",
        "! wget -N https://raw.githubusercontent.com/CogStack/MedCATtutorials/main/notebooks/introductory/data/noteevents.csv -P $DATA_DIR\n",
        "! wget -N https://raw.githubusercontent.com/CogStack/MedCATtutorials/main/notebooks/introductory/data/patients.csv -P $DATA_DIR"
      ]
    },
    {
      "cell_type": "markdown",
      "metadata": {
        "id": "ZjqO9HkEcyf8"
      },
      "source": [
        "### Set plot sizes and style"
      ]
    },
    {
      "cell_type": "code",
      "execution_count": null,
      "metadata": {
        "id": "1_-QgGn4adQS"
      },
      "outputs": [],
      "source": [
        "# Set size and color for plots\n",
        "sns.reset_defaults()\n",
        "sns.set(\n",
        "    rc={'figure.figsize':(4,5)},\n",
        "    style=\"white\"\n",
        ")"
      ]
    },
    {
      "cell_type": "markdown",
      "metadata": {
        "id": "-vlL4GHuadQV"
      },
      "source": [
        "## Statistics on patients"
      ]
    },
    {
      "cell_type": "code",
      "execution_count": null,
      "metadata": {
        "id": "-qWCJns4adQV"
      },
      "outputs": [],
      "source": [
        "patients = pd.read_csv(DATA_DIR + \"patients.csv\")\n",
        "patients.head()"
      ]
    },
    {
      "cell_type": "code",
      "execution_count": null,
      "metadata": {
        "id": "2G0t_YbgadQY"
      },
      "outputs": [],
      "source": [
        "sns.countplot(patients['gender'])\n",
        "plt.show()"
      ]
    },
    {
      "cell_type": "code",
      "execution_count": null,
      "metadata": {
        "id": "zBvtOGP_adQa"
      },
      "outputs": [],
      "source": [
        "print(f\"Total number of patients: {len(patients)}\")\n",
        "print(f\"Male: {len(patients[patients['gender'] == 'M'])}\")\n",
        "print(f\"Female: {len(patients[patients['gender'] == 'F'])}\")"
      ]
    },
    {
      "cell_type": "markdown",
      "metadata": {
        "id": "P3zXGXwvadQd"
      },
      "source": [
        "## Statistics on note events\n",
        "\n",
        "Note: This dataset is large and requires a bit more RAM to fully load into memory."
      ]
    },
    {
      "cell_type": "code",
      "execution_count": null,
      "metadata": {
        "id": "RPGLkgpYadQe"
      },
      "outputs": [],
      "source": [
        "# Set size and color for plots\n",
        "sns.reset_defaults()\n",
        "sns.set(\n",
        "    rc={'figure.figsize':(10,6)},\n",
        "    style=\"white\"\n",
        ")"
      ]
    },
    {
      "cell_type": "code",
      "execution_count": null,
      "metadata": {
        "id": "Kq8GA3dgadQg"
      },
      "outputs": [],
      "source": [
        "noteevents = pd.read_csv(DATA_DIR + \"noteevents.csv\")\n",
        "noteevents.head()"
      ]
    },
    {
      "cell_type": "code",
      "execution_count": null,
      "metadata": {
        "id": "mWO6GVLgut4H"
      },
      "outputs": [],
      "source": [
        "noteevents.category"
      ]
    },
    {
      "cell_type": "code",
      "execution_count": null,
      "metadata": {
        "id": "znwaer7uVr8n"
      },
      "outputs": [],
      "source": [
        "# The column 'noteevents' contains the free text / unstructured text body of the document\n",
        "print(noteevents.text.iloc[0])"
      ]
    },
    {
      "cell_type": "code",
      "execution_count": null,
      "metadata": {
        "id": "xcp2oEFDadQi"
      },
      "outputs": [],
      "source": [
        "noteevents_original = noteevents.copy()"
      ]
    },
    {
      "cell_type": "code",
      "execution_count": null,
      "metadata": {
        "id": "5iPIqOOiadQl"
      },
      "outputs": [],
      "source": [
        "lns = noteevents.text.str.len().tolist()\n",
        "sns.distplot(lns, kde=False, axlabel='Document length')\n",
        "plt.show()"
      ]
    },
    {
      "cell_type": "code",
      "execution_count": null,
      "metadata": {
        "id": "XHqZWgqoadQq"
      },
      "outputs": [],
      "source": [
        "# Sort lengths\n",
        "lns = sorted(lns)\n",
        "\n",
        "# Take 5% as the removal size\n",
        "rm_size = int(len(lns) / 100) * 5\n",
        "\n",
        "# Now plot with removal of most/least frequent\n",
        "sns.distplot(lns[rm_size:-rm_size], kde=False, axlabel='Document length')\n",
        "plt.show()"
      ]
    },
    {
      "cell_type": "markdown",
      "metadata": {
        "id": "YVbE6NwUadQs"
      },
      "source": [
        "### Cleaning based on document length"
      ]
    },
    {
      "cell_type": "code",
      "execution_count": null,
      "metadata": {
        "id": "KPMajqkmadQt"
      },
      "outputs": [],
      "source": [
        "# Remove rows from the dataframe based on document length of top / bottom 5%.\n",
        "min_ln = max(lns[0:rm_size])\n",
        "max_ln = min(lns[-rm_size:])\n",
        "noteevents = noteevents[(noteevents.text.str.len() > min_ln) & (noteevents.text.str.len() < max_ln)]\n",
        "noteevents.head()"
      ]
    },
    {
      "cell_type": "code",
      "execution_count": null,
      "metadata": {
        "id": "MtRUapopadQv"
      },
      "outputs": [],
      "source": [
        "print(f\"Length after cleaning : {len(noteevents)}\")\n",
        "print(f\"Length of the original: {len(noteevents_original)}\")"
      ]
    },
    {
      "cell_type": "markdown",
      "metadata": {
        "id": "8cs_CW5RadQx"
      },
      "source": [
        "## Number of documents per patient"
      ]
    },
    {
      "cell_type": "code",
      "execution_count": null,
      "metadata": {
        "id": "4_2isvlvadQx"
      },
      "outputs": [],
      "source": [
        "sns.distplot(noteevents['subject_id'].value_counts().values, kde=False, axlabel='Documents per patient')\n",
        "plt.show()"
      ]
    },
    {
      "cell_type": "code",
      "execution_count": null,
      "metadata": {
        "id": "TZp9h_e-adQz"
      },
      "outputs": [],
      "source": [
        "# Again a bit of clean-up, let's remove the bottom/top 1% of patients based on the number of\n",
        "# documents they have.\n",
        "docs_per_pt = noteevents['subject_id'].value_counts()\n",
        "docs_per_pt_vals = docs_per_pt.values\n",
        "docs_per_pt_vals.sort()\n",
        "\n",
        "rm_size = int(len(docs_per_pt_vals) / 100) * 1\n",
        "min_ln = max(docs_per_pt_vals[0:rm_size])\n",
        "max_ln = min(docs_per_pt_vals[-rm_size:])\n",
        "\n",
        "keep_subject_id = set([k for k, v in docs_per_pt.iteritems() if v > min_ln and v < max_ln])\n",
        "noteevents = noteevents[[True if subject_id in keep_subject_id else False\n",
        "                  for subject_id in noteevents['subject_id'].values]]\n",
        "noteevents.head()"
      ]
    },
    {
      "cell_type": "code",
      "execution_count": null,
      "metadata": {
        "id": "O5ZA-Ay1adQ1"
      },
      "outputs": [],
      "source": [
        "print(f\"Length after cleaning : {len(noteevents)}\")\n",
        "print(f\"Length of the original: {len(noteevents_original)}\")"
      ]
    },
    {
      "cell_type": "code",
      "execution_count": null,
      "metadata": {
        "id": "BZDQcG_OadQ4"
      },
      "outputs": [],
      "source": [
        "sns.distplot(noteevents['subject_id'].value_counts().values, kde=False, axlabel='Documents per patient')\n",
        "plt.show()"
      ]
    },
    {
      "cell_type": "markdown",
      "metadata": {
        "id": "r7jGwJEmadQ6"
      },
      "source": [
        "### There are different sources for the documesnt, we'll also plot that..."
      ]
    },
    {
      "cell_type": "code",
      "execution_count": null,
      "metadata": {
        "id": "aKZCkIG8adQ6"
      },
      "outputs": [],
      "source": [
        "plot = sns.countplot(noteevents['category'])\n",
        "_ = plot.set_xticklabels(plot.get_xticklabels(), rotation=45, horizontalalignment='right')\n",
        "plt.show()"
      ]
    },
    {
      "cell_type": "markdown",
      "metadata": {
        "id": "L13jbTI0adQ8"
      },
      "source": [
        "## Age based statistics"
      ]
    },
    {
      "cell_type": "code",
      "execution_count": null,
      "metadata": {
        "id": "uJ2_DrKwadQ8"
      },
      "outputs": [],
      "source": [
        "# Convert to pandas dates\n",
        "noteevents['chartdate'] = pd.to_datetime(noteevents['chartdate'])\n",
        "patients['dob'] = pd.to_datetime(patients['dob'])\n",
        "\n",
        "# Add a year column\n",
        "noteevents['create_year'] = pd.DatetimeIndex(noteevents['chartdate']).year\n",
        "patients['dob_year'] = pd.DatetimeIndex(patients['dob']).year"
      ]
    },
    {
      "cell_type": "code",
      "execution_count": null,
      "metadata": {
        "id": "FPEufVo5adQ-"
      },
      "outputs": [],
      "source": [
        "# Joint noteevents with patients\n",
        "pt_notes = noteevents.merge(patients, on='subject_id', how='left')"
      ]
    },
    {
      "cell_type": "code",
      "execution_count": null,
      "metadata": {
        "id": "n_nY8bt8adRA"
      },
      "outputs": [],
      "source": [
        "pt_notes['age_year'] = pt_notes['create_year'] - pt_notes['dob_year']"
      ]
    },
    {
      "cell_type": "code",
      "execution_count": null,
      "metadata": {
        "id": "GI6asE74adRB"
      },
      "outputs": [],
      "source": [
        "# Remove patients older than 89 and younger than 16\n",
        "pt_notes = pt_notes[pt_notes['age_year'] >= 16]\n",
        "pt_notes = pt_notes[pt_notes['age_year'] <= 89]"
      ]
    },
    {
      "cell_type": "code",
      "execution_count": null,
      "metadata": {
        "id": "cV0omycladRD"
      },
      "outputs": [],
      "source": [
        "# It is possible that the cleaning above created some patients with only one document\n",
        "print(\"Number of patients with only one doc: \" + str(sum(pt_notes['subject_id'].value_counts().values == 1)))\n",
        "\n",
        "# Remove it there are any\n",
        "remove_subject = set([k for k, v in pt_notes['subject_id'].value_counts().iteritems() if v == 1])\n",
        "pt_notes = pt_notes[~pt_notes.subject_id.isin(remove_subject)]\n",
        "print(\"After removal: \" + str(sum(pt_notes['subject_id'].value_counts().values == 1)))"
      ]
    },
    {
      "cell_type": "code",
      "execution_count": null,
      "metadata": {
        "id": "321itVORadRF"
      },
      "outputs": [],
      "source": [
        "pt_notes.category.value_counts()"
      ]
    },
    {
      "cell_type": "code",
      "execution_count": null,
      "metadata": {
        "id": "3Yol0bDUadRH"
      },
      "outputs": [],
      "source": [
        "# We'll do the following to make sure patients do not have documents that span\n",
        "# over multiple years, meaning their age would change.\n",
        "dif_pt = {}\n",
        "for ind, row in pt_notes.iterrows():\n",
        "    sid = row['subject_id']\n",
        "    if sid in dif_pt:\n",
        "        dif_pt[sid].append(row['age_year'])\n",
        "    else:\n",
        "        dif_pt[sid] = [row['age_year']]\n",
        "\n",
        "ehr_length = []\n",
        "median_age = []\n",
        "for v in dif_pt.values():\n",
        "    mx = max(v)\n",
        "    mi = min(v)\n",
        "    median_age.append(np.median(v))\n",
        "    ehr_length.append(mx - mi)"
      ]
    },
    {
      "cell_type": "code",
      "execution_count": null,
      "metadata": {
        "id": "wPEDOt48adRI"
      },
      "outputs": [],
      "source": [
        "# We show this mainly to be sure that most patients have an EHR that spans less than 1 year\n",
        "sns.distplot(ehr_length, kde=False, axlabel='EHR Length in Years')\n",
        "plt.show()"
      ]
    },
    {
      "cell_type": "code",
      "execution_count": null,
      "metadata": {
        "id": "n5QytU90adRK"
      },
      "outputs": [],
      "source": [
        "sns.distplot([np.round(x) for x in median_age], kde=False, bins=74, axlabel='Patient Age')\n",
        "plt.show()"
      ]
    },
    {
      "cell_type": "code",
      "execution_count": null,
      "metadata": {
        "id": "sak8VW3UadRL"
      },
      "outputs": [],
      "source": [
        "# Number of patients after/before cleaning\n",
        "print(len(pt_notes['subject_id'].unique()))\n",
        "print(len(noteevents_original['subject_id'].unique()))"
      ]
    },
    {
      "cell_type": "code",
      "execution_count": null,
      "metadata": {
        "id": "EnDpGSi2adRN"
      },
      "outputs": [],
      "source": [
        "# Document length after/before cleaning\n",
        "print(np.average([len(str(x)) for x in pt_notes['text']]))\n",
        "print(np.average([len(str(x)) for x in noteevents_original['text']]))"
      ]
    },
    {
      "cell_type": "code",
      "execution_count": null,
      "metadata": {
        "id": "MEs12MNpadRR"
      },
      "outputs": [],
      "source": [
        "# Number of documents after/before cleaning\n",
        "print(len(pt_notes))\n",
        "print(len(noteevents_original))"
      ]
    },
    {
      "cell_type": "code",
      "execution_count": null,
      "metadata": {
        "id": "1bZNZEEgadRT"
      },
      "outputs": [],
      "source": [
        "# Min number of documents per patient after/before cleaning\n",
        "print(min(pt_notes['subject_id'].value_counts().values))\n",
        "print(min(noteevents_original['subject_id'].value_counts().values))"
      ]
    },
    {
      "cell_type": "code",
      "execution_count": null,
      "metadata": {
        "id": "jVksBr5oadRU"
      },
      "outputs": [],
      "source": [
        "# Max number of documents per patient after/before cleaning\n",
        "print(max(pt_notes['subject_id'].value_counts().values))\n",
        "print(max(noteevents_original['subject_id'].value_counts().values))"
      ]
    },
    {
      "cell_type": "code",
      "execution_count": null,
      "metadata": {
        "id": "aZfJb7_NadRW"
      },
      "outputs": [],
      "source": [
        "# Save the new DF\n",
        "pt_notes.to_csv(DATA_DIR + \"pt_notes.csv\", index=False)"
      ]
    },
    {
      "cell_type": "markdown",
      "metadata": {
        "id": "BXnxAuZX2ejp"
      },
      "source": [
        "End of Dataset Analysis and Preparation tutorial"
      ]
    }
  ],
  "metadata": {
    "colab": {
      "provenance": [],
      "include_colab_link": true
    },
    "kernelspec": {
      "display_name": "Python 3",
      "language": "python",
      "name": "python3"
    },
    "language_info": {
      "codemirror_mode": {
        "name": "ipython",
        "version": 3
      },
      "file_extension": ".py",
      "mimetype": "text/x-python",
      "name": "python",
      "nbconvert_exporter": "python",
      "pygments_lexer": "ipython3",
      "version": "3.7.0"
    }
  },
  "nbformat": 4,
  "nbformat_minor": 0
}