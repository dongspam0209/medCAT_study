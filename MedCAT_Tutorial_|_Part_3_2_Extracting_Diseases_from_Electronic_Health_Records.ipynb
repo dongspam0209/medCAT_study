{
  "nbformat": 4,
  "nbformat_minor": 0,
  "metadata": {
    "kernelspec": {
      "display_name": "Python 3",
      "language": "python",
      "name": "python3"
    },
    "language_info": {
      "codemirror_mode": {
        "name": "ipython",
        "version": 3
      },
      "file_extension": ".py",
      "mimetype": "text/x-python",
      "name": "python",
      "nbconvert_exporter": "python",
      "pygments_lexer": "ipython3",
      "version": "3.7.0"
    },
    "colab": {
      "provenance": [],
      "include_colab_link": true
    }
  },
  "cells": [
    {
      "cell_type": "markdown",
      "metadata": {
        "id": "view-in-github",
        "colab_type": "text"
      },
      "source": [
        "<a href=\"https://colab.research.google.com/github/dongspam0209/medCAT_study/blob/main/MedCAT_Tutorial_%7C_Part_3_2_Extracting_Diseases_from_Electronic_Health_Records.ipynb\" target=\"_parent\"><img src=\"https://colab.research.google.com/assets/colab-badge.svg\" alt=\"Open In Colab\"/></a>"
      ]
    },
    {
      "cell_type": "code",
      "metadata": {
        "id": "OAxIpkCiaiC2"
      },
      "source": [
        "! pip install medcat==0.3.3.1\n",
        "# Get the scispacy model\n",
        "! pip install https://s3-us-west-2.amazonaws.com/ai2-s2-scispacy/releases/v0.2.4/en_core_sci_md-0.2.4.tar.gz"
      ],
      "execution_count": null,
      "outputs": []
    },
    {
      "cell_type": "markdown",
      "metadata": {
        "id": "3OLVuMJE03da"
      },
      "source": [
        "**Restart the runtime if on colab, sometimes necessary after installing models**"
      ]
    },
    {
      "cell_type": "code",
      "metadata": {
        "id": "lho2dmm1VffS"
      },
      "source": [
        "import pandas as pd\n",
        "import numpy as np\n",
        "import seaborn as sns\n",
        "from matplotlib import pyplot as plt\n",
        "\n",
        "from medcat.cat import CAT\n",
        "from medcat.cdb import CDB\n",
        "from medcat.utils.vocab import Vocab"
      ],
      "execution_count": null,
      "outputs": []
    },
    {
      "cell_type": "code",
      "metadata": {
        "id": "VH8L597aVffZ"
      },
      "source": [
        "DATA_DIR = \"./data/\"\n",
        "vocab_path = DATA_DIR + \"vocab.dat\"\n",
        "cdb_path = DATA_DIR + \"cdb-medmen.dat\""
      ],
      "execution_count": null,
      "outputs": []
    },
    {
      "cell_type": "code",
      "metadata": {
        "id": "km-Va8uvbEYd",
        "colab": {
          "base_uri": "https://localhost:8080/",
          "height": 578
        },
        "outputId": "08599451-04b4-4c98-f4a0-fccc57275666"
      },
      "source": [
        "# Download the models and required data\n",
        "!wget https://s3-eu-west-1.amazonaws.com/zkcl/vocab.dat -P ./data/\n",
        "!wget https://s3-eu-west-1.amazonaws.com/zkcl/cdb-medmen.dat -P ./data/\n",
        "!wget https://raw.githubusercontent.com/CogStack/MedCAT/master/tutorial/data/pt_notes.csv -P ./data/"
      ],
      "execution_count": null,
      "outputs": [
        {
          "output_type": "stream",
          "text": [
            "--2020-03-29 14:33:17--  https://s3-eu-west-1.amazonaws.com/zkcl/vocab.dat\n",
            "Resolving s3-eu-west-1.amazonaws.com (s3-eu-west-1.amazonaws.com)... 52.218.49.60\n",
            "Connecting to s3-eu-west-1.amazonaws.com (s3-eu-west-1.amazonaws.com)|52.218.49.60|:443... connected.\n",
            "HTTP request sent, awaiting response... 200 OK\n",
            "Length: 274445907 (262M) [application/x-www-form-urlencoded]\n",
            "Saving to: ‘./data/vocab.dat’\n",
            "\n",
            "vocab.dat           100%[===================>] 261.73M  31.4MB/s    in 9.1s    \n",
            "\n",
            "2020-03-29 14:33:26 (28.9 MB/s) - ‘./data/vocab.dat’ saved [274445907/274445907]\n",
            "\n",
            "--2020-03-29 14:33:27--  https://s3-eu-west-1.amazonaws.com/zkcl/cdb-medmen.dat\n",
            "Resolving s3-eu-west-1.amazonaws.com (s3-eu-west-1.amazonaws.com)... 52.218.80.170\n",
            "Connecting to s3-eu-west-1.amazonaws.com (s3-eu-west-1.amazonaws.com)|52.218.80.170|:443... connected.\n",
            "HTTP request sent, awaiting response... 200 OK\n",
            "Length: 180335834 (172M) [application/x-www-form-urlencoded]\n",
            "Saving to: ‘./data/cdb-medmen.dat’\n",
            "\n",
            "cdb-medmen.dat      100%[===================>] 171.98M  24.2MB/s    in 7.7s    \n",
            "\n",
            "2020-03-29 14:33:35 (22.3 MB/s) - ‘./data/cdb-medmen.dat’ saved [180335834/180335834]\n",
            "\n",
            "--2020-03-29 14:33:36--  https://raw.githubusercontent.com/CogStack/MedCAT/master/tutorial/data/pt_notes.csv\n",
            "Resolving raw.githubusercontent.com (raw.githubusercontent.com)... 151.101.0.133, 151.101.64.133, 151.101.128.133, ...\n",
            "Connecting to raw.githubusercontent.com (raw.githubusercontent.com)|151.101.0.133|:443... connected.\n",
            "HTTP request sent, awaiting response... 200 OK\n",
            "Length: 3644222 (3.5M) [text/plain]\n",
            "Saving to: ‘./data/pt_notes.csv’\n",
            "\n",
            "pt_notes.csv        100%[===================>]   3.47M  12.2MB/s    in 0.3s    \n",
            "\n",
            "2020-03-29 14:33:37 (12.2 MB/s) - ‘./data/pt_notes.csv’ saved [3644222/3644222]\n",
            "\n"
          ],
          "name": "stdout"
        }
      ]
    },
    {
      "cell_type": "markdown",
      "metadata": {
        "id": "_thSfOjVVffc"
      },
      "source": [
        "## Loading models and preparing MedCAT"
      ]
    },
    {
      "cell_type": "code",
      "metadata": {
        "id": "LFgIA5tSVffd"
      },
      "source": [
        "# Create and load the CDB (Concept Database)\n",
        "cdb = CDB()\n",
        "cdb.load_dict(cdb_path)\n",
        "\n",
        "# Create and load the Vocabulary\n",
        "vocab = Vocab()\n",
        "vocab.load_dict(vocab_path)"
      ],
      "execution_count": null,
      "outputs": []
    },
    {
      "cell_type": "code",
      "metadata": {
        "id": "l1nWKI96Vffg"
      },
      "source": [
        "# Create CAT - the main class from medcat used for concept annotation\n",
        "cat = CAT(cdb=cdb, vocab=vocab)\n",
        "\n",
        "# Set a couple of parameters, they are usually set via environments, but\n",
        "#here we will do it explicitly. You can read more about each option in the\n",
        "#medcat repository: https://github.com/CogStack/MedCAT\n",
        "cat.spacy_cat.PREFER_FREQUENT = True\n",
        "cat.spacy_cat.PREFER_ICD10 = False\n",
        "cat.spacy_cat.WEIGHTED_AVG = True\n",
        "cat.spacy_cat.MIN_CONCEPT_LENGTH = 3 # Ignore concepts (diseases) <= 3 characters\n",
        "cat.spacy_cat.MIN_ACC = 0.2 # Confidence cut-off, everything bellow will not be displayed"
      ],
      "execution_count": null,
      "outputs": []
    },
    {
      "cell_type": "markdown",
      "metadata": {
        "id": "f7VxmscmVffi"
      },
      "source": [
        "## Testing NER+L"
      ]
    },
    {
      "cell_type": "code",
      "metadata": {
        "id": "7_L4-zPPVffj",
        "colab": {
          "base_uri": "https://localhost:8080/",
          "height": 34
        },
        "outputId": "3bc09c13-55b2-4510-ab96-e574fb2fd5c0"
      },
      "source": [
        "text = \"He was diagnosed with kidney failure\"\n",
        "doc = cat(text)\n",
        "print(doc.ents)"
      ],
      "execution_count": null,
      "outputs": [
        {
          "output_type": "stream",
          "text": [
            "(diagnosed, kidney failure)\n"
          ],
          "name": "stdout"
        }
      ]
    },
    {
      "cell_type": "code",
      "metadata": {
        "id": "kDN04vBbVffl",
        "colab": {
          "base_uri": "https://localhost:8080/",
          "height": 51
        },
        "outputId": "37f58a6b-54a0-454c-bd0b-7c0438064a0f"
      },
      "source": [
        "# If we want to see the CUI (ID) for each entity\n",
        "for ent in doc.ents:\n",
        "    print(ent, \" - \", ent._.cui)"
      ],
      "execution_count": null,
      "outputs": [
        {
          "output_type": "stream",
          "text": [
            "diagnosed  -  C0011900\n",
            "kidney failure  -  C0035078\n"
          ],
          "name": "stdout"
        }
      ]
    },
    {
      "cell_type": "code",
      "metadata": {
        "id": "ggj45cnLcAgh",
        "colab": {
          "base_uri": "https://localhost:8080/",
          "height": 51
        },
        "outputId": "16a47f36-1746-4943-df1b-f34e71638cdf"
      },
      "source": [
        "# To show semantic types for each entity\n",
        "for ent in doc.ents:\n",
        "  print(ent, \" - \", ent._.tui)"
      ],
      "execution_count": null,
      "outputs": [
        {
          "output_type": "stream",
          "text": [
            "diagnosed  -  T033\n",
            "kidney failure  -  T047\n"
          ],
          "name": "stdout"
        }
      ]
    },
    {
      "cell_type": "code",
      "metadata": {
        "id": "mmBIsAQHcEzn",
        "colab": {
          "base_uri": "https://localhost:8080/",
          "height": 51
        },
        "outputId": "ef7546b1-8f20-43b6-fabd-4f6ab8d087be"
      },
      "source": [
        "# To show names for semenatic types\n",
        "for ent in doc.ents:\n",
        "  print(ent, \" - \", cdb.tui2name[ent._.tui])"
      ],
      "execution_count": null,
      "outputs": [
        {
          "output_type": "stream",
          "text": [
            "diagnosed  -  Finding\n",
            "kidney failure  -  Disease or Syndrome\n"
          ],
          "name": "stdout"
        }
      ]
    },
    {
      "cell_type": "code",
      "metadata": {
        "id": "7hZPUuf1Vffo",
        "colab": {
          "base_uri": "https://localhost:8080/",
          "height": 52
        },
        "outputId": "6af32619-3d0b-4b81-ef53-10b869fe0def"
      },
      "source": [
        "# We can also show the entities in a nicer way using displacy form spaCy\n",
        "from spacy import displacy\n",
        "displacy.render(doc, style='ent', jupyter=True)"
      ],
      "execution_count": null,
      "outputs": [
        {
          "output_type": "display_data",
          "data": {
            "text/html": [
              "<span class=\"tex2jax_ignore\"><div class=\"entities\" style=\"line-height: 2.5; direction: ltr\">He was \n",
              "<mark class=\"entity\" style=\"background: #ddd; padding: 0.45em 0.6em; margin: 0 0.25em; line-height: 1; border-radius: 0.35em;\">\n",
              "    diagnosed\n",
              "    <span style=\"font-size: 0.8em; font-weight: bold; line-height: 1; border-radius: 0.35em; text-transform: uppercase; vertical-align: middle; margin-left: 0.5rem\">C0011900 - diagnosis - T033 - Finding - 0.41</span>\n",
              "</mark>\n",
              " with \n",
              "<mark class=\"entity\" style=\"background: #ddd; padding: 0.45em 0.6em; margin: 0 0.25em; line-height: 1; border-radius: 0.35em;\">\n",
              "    kidney failure\n",
              "    <span style=\"font-size: 0.8em; font-weight: bold; line-height: 1; border-radius: 0.35em; text-transform: uppercase; vertical-align: middle; margin-left: 0.5rem\">C0035078 - renal failure - T047 - Disease or Syndrome - 1.0</span>\n",
              "</mark>\n",
              "</div></span>"
            ],
            "text/plain": [
              "<IPython.core.display.HTML object>"
            ]
          },
          "metadata": {
            "tags": []
          }
        }
      ]
    },
    {
      "cell_type": "markdown",
      "metadata": {
        "id": "et68xVzxVffr"
      },
      "source": [
        "## Load the data"
      ]
    },
    {
      "cell_type": "code",
      "metadata": {
        "id": "j7krcYDyVffr"
      },
      "source": [
        "# Load the dataset - the one we saved in the last step of Part 2.\n",
        "#If using MIMIC-III this is a very big dataset, be careful with memory requirements.\n",
        "data = pd.read_csv(DATA_DIR + \"pt_notes.csv\")"
      ],
      "execution_count": null,
      "outputs": []
    },
    {
      "cell_type": "code",
      "metadata": {
        "id": "nOPdyOoQVffv",
        "colab": {
          "base_uri": "https://localhost:8080/",
          "height": 204
        },
        "outputId": "2f21f832-3f97-4ae6-eca8-cc6cedd36ff8"
      },
      "source": [
        "# In this step we are only interested in the *text* column\n",
        "data.head()"
      ],
      "execution_count": null,
      "outputs": [
        {
          "output_type": "execute_result",
          "data": {
            "text/html": [
              "<div>\n",
              "<style scoped>\n",
              "    .dataframe tbody tr th:only-of-type {\n",
              "        vertical-align: middle;\n",
              "    }\n",
              "\n",
              "    .dataframe tbody tr th {\n",
              "        vertical-align: top;\n",
              "    }\n",
              "\n",
              "    .dataframe thead th {\n",
              "        text-align: right;\n",
              "    }\n",
              "</style>\n",
              "<table border=\"1\" class=\"dataframe\">\n",
              "  <thead>\n",
              "    <tr style=\"text-align: right;\">\n",
              "      <th></th>\n",
              "      <th>Unnamed: 0_x</th>\n",
              "      <th>subject_id</th>\n",
              "      <th>chartdate</th>\n",
              "      <th>category</th>\n",
              "      <th>text</th>\n",
              "      <th>create_year</th>\n",
              "      <th>Unnamed: 0_y</th>\n",
              "      <th>gender</th>\n",
              "      <th>dob</th>\n",
              "      <th>dob_year</th>\n",
              "      <th>age_year</th>\n",
              "    </tr>\n",
              "  </thead>\n",
              "  <tbody>\n",
              "    <tr>\n",
              "      <th>0</th>\n",
              "      <td>6</td>\n",
              "      <td>1</td>\n",
              "      <td>2079-01-01</td>\n",
              "      <td>General Medicine</td>\n",
              "      <td>HISTORY OF PRESENT ILLNESS:, The patient is a ...</td>\n",
              "      <td>2079</td>\n",
              "      <td>1</td>\n",
              "      <td>F</td>\n",
              "      <td>2018-01-01</td>\n",
              "      <td>2018</td>\n",
              "      <td>61</td>\n",
              "    </tr>\n",
              "    <tr>\n",
              "      <th>1</th>\n",
              "      <td>7</td>\n",
              "      <td>1</td>\n",
              "      <td>2079-01-01</td>\n",
              "      <td>Rheumatology</td>\n",
              "      <td>HISTORY OF PRESENT ILLNESS: , A 71-year-old fe...</td>\n",
              "      <td>2079</td>\n",
              "      <td>1</td>\n",
              "      <td>F</td>\n",
              "      <td>2018-01-01</td>\n",
              "      <td>2018</td>\n",
              "      <td>61</td>\n",
              "    </tr>\n",
              "    <tr>\n",
              "      <th>2</th>\n",
              "      <td>8</td>\n",
              "      <td>1</td>\n",
              "      <td>2079-01-01</td>\n",
              "      <td>Consult - History and Phy.</td>\n",
              "      <td>HISTORY OF PRESENT ILLNESS:, The patient is a ...</td>\n",
              "      <td>2079</td>\n",
              "      <td>1</td>\n",
              "      <td>F</td>\n",
              "      <td>2018-01-01</td>\n",
              "      <td>2018</td>\n",
              "      <td>61</td>\n",
              "    </tr>\n",
              "    <tr>\n",
              "      <th>3</th>\n",
              "      <td>9</td>\n",
              "      <td>2</td>\n",
              "      <td>2037-01-01</td>\n",
              "      <td>Consult - History and Phy.</td>\n",
              "      <td>CHIEF COMPLAINT:,1.  Infection.,2.  Pelvic pai...</td>\n",
              "      <td>2037</td>\n",
              "      <td>2</td>\n",
              "      <td>F</td>\n",
              "      <td>2018-01-01</td>\n",
              "      <td>2018</td>\n",
              "      <td>19</td>\n",
              "    </tr>\n",
              "    <tr>\n",
              "      <th>4</th>\n",
              "      <td>10</td>\n",
              "      <td>2</td>\n",
              "      <td>2037-01-01</td>\n",
              "      <td>Dermatology</td>\n",
              "      <td>SUBJECTIVE:,  This is a 29-year-old Vietnamese...</td>\n",
              "      <td>2037</td>\n",
              "      <td>2</td>\n",
              "      <td>F</td>\n",
              "      <td>2018-01-01</td>\n",
              "      <td>2018</td>\n",
              "      <td>19</td>\n",
              "    </tr>\n",
              "  </tbody>\n",
              "</table>\n",
              "</div>"
            ],
            "text/plain": [
              "   Unnamed: 0_x  subject_id   chartdate  ...         dob dob_year  age_year\n",
              "0             6           1  2079-01-01  ...  2018-01-01     2018        61\n",
              "1             7           1  2079-01-01  ...  2018-01-01     2018        61\n",
              "2             8           1  2079-01-01  ...  2018-01-01     2018        61\n",
              "3             9           2  2037-01-01  ...  2018-01-01     2018        19\n",
              "4            10           2  2037-01-01  ...  2018-01-01     2018        19\n",
              "\n",
              "[5 rows x 11 columns]"
            ]
          },
          "metadata": {
            "tags": []
          },
          "execution_count": 12
        }
      ]
    },
    {
      "cell_type": "markdown",
      "metadata": {
        "id": "3CERW88jVffz"
      },
      "source": [
        "## Run unsupervised training"
      ]
    },
    {
      "cell_type": "code",
      "metadata": {
        "scrolled": true,
        "id": "jHYbsOriVff0",
        "colab": {
          "base_uri": "https://localhost:8080/",
          "height": 374
        },
        "outputId": "dd698ca0-c47c-4a1e-8735-0583ed74851c"
      },
      "source": [
        "# The first step that we want to do when using MedCAT is unsupervised training, it is in detail\n",
        "#explain in the paper: https://arxiv.org/abs/1912.10166\n",
        "# To run it we first set CAT into the train mode\n",
        "cat.train = True\n",
        "\n",
        "# Print statistics on the CDB before training (note that if you are using the\n",
        "#medmen cdb it will already have some training)\n",
        "cat.cdb.print_stats()\n",
        "\n",
        "# Run the annotation procedure over all the documents we have,\n",
        "#given that we have a large number of documents this can take quite some time.\n",
        "#~2 days, but you don't need to run it over everything 500K docs is enough\n",
        "for i, text in enumerate(data['text'].values):\n",
        "    # This will now run the training in the background\n",
        "    _ = cat(text)\n",
        "\n",
        "    # So we know how things are moving\n",
        "    if i % 100 == 0:\n",
        "        print(\"Finished {} - text blocks\".format(i))\n",
        "\n",
        "# Print statistics on the CDB after training\n",
        "cat.cdb.print_stats()\n",
        "\n",
        "# Disable the training mode\n",
        "cat.train = False"
      ],
      "execution_count": null,
      "outputs": [
        {
          "output_type": "stream",
          "text": [
            "Number of concepts: 34,632\n",
            "Number of names:    96,529\n",
            "Number of concepts that received training: 30,501\n",
            "Number of seen training examples in total: 624,019\n",
            "Average training examples per concept:     20.5\n",
            "Finished 0 - text blocks\n",
            "Finished 100 - text blocks\n",
            "Finished 200 - text blocks\n",
            "Finished 300 - text blocks\n",
            "Finished 400 - text blocks\n",
            "Finished 500 - text blocks\n",
            "Finished 600 - text blocks\n",
            "Finished 700 - text blocks\n",
            "Finished 800 - text blocks\n",
            "Finished 900 - text blocks\n",
            "Finished 1000 - text blocks\n",
            "Number of concepts: 34,632\n",
            "Number of names:    96,529\n",
            "Number of concepts that received training: 30,511\n",
            "Number of seen training examples in total: 727,452\n",
            "Average training examples per concept:     23.8\n"
          ],
          "name": "stdout"
        }
      ]
    },
    {
      "cell_type": "markdown",
      "metadata": {
        "id": "9Wf7ugKkVff3"
      },
      "source": [
        "## Annotate Documents"
      ]
    },
    {
      "cell_type": "markdown",
      "metadata": {
        "id": "rpzhuFFyVff3"
      },
      "source": [
        "We are not interested in all medical concepts that exist in UMLS, that is why we will filter by Semantic Type (TUI) to only:\n",
        "1. T047 - Disease or Syndrom\n",
        "2. T048 - Mental or Behavioral Dysfunction\n",
        "\n",
        "It is possible to filter after the detection process, but always better to define the filter as part of MedCAT\n",
        "\n",
        "A full list of semantic types in UMLS is available [here](https://metamap.nlm.nih.gov/Docs/SemanticTypes_2018AB.txt)."
      ]
    },
    {
      "cell_type": "code",
      "metadata": {
        "id": "8WAS38nNVff4"
      },
      "source": [
        "# IMPORTANT: Set TUI filters\n",
        "cat.spacy_cat.TUI_FILTER = ['T047', 'T048']"
      ],
      "execution_count": null,
      "outputs": []
    },
    {
      "cell_type": "markdown",
      "metadata": {
        "id": "HSMCmCkQVff6"
      },
      "source": [
        "For each row in our dataframe `data` we want to get all diseases that appear in the `text` column. In UMLS a disease is defined by a CUI, so we want to have the following output after the annotation is done:\n",
        "```\n",
        "cui_location = {<CUI>: [<row_id>, <row_id>, ...], ...}\n",
        "```"
      ]
    },
    {
      "cell_type": "code",
      "metadata": {
        "id": "RHrN0ikXVff6"
      },
      "source": [
        "# This will be a map from CUI to a list of documents where it appears: {\"cui\": [<doc_id>, <doc_id>, ...], ..}\n",
        "cui_location = {}\n",
        "# Let's also save the TUI location (semantic type)\n",
        "tui_location = {}"
      ],
      "execution_count": null,
      "outputs": []
    },
    {
      "cell_type": "markdown",
      "metadata": {
        "id": "rfHRh8C9Vff9"
      },
      "source": [
        "### Use Multiprocessing\n",
        "\n",
        "We can annotate documents one by one, using the `annotated_document = cat(text)` option, but it will work much faster if we do it using the `multi_processing` method from medcat.\n",
        "\n",
        "When using multi_processing medcat requires the following format for input documents:\n",
        "```\n",
        "in_data = [(doc_id, doc_text), (doc_id, doc_text), ...]\n",
        "```\n",
        "The output is (return from medcat):\n",
        "```\n",
        "out_data = [(doc_id, {'entities': [...], 'text': <...>), (doc_id, {'entities': [...], 'text': <...>}), ...]\n",
        "```\n",
        "\n",
        "NOTE: If using the full UMLS CDB and a lot of processors (e.g. 32) it is very memory demanding (~ 32GB). The annotation process on 32 processors and 1M large text documents takes ~1h."
      ]
    },
    {
      "cell_type": "code",
      "metadata": {
        "id": "6RET9-y9xZGK",
        "colab": {
          "base_uri": "https://localhost:8080/",
          "height": 54
        },
        "outputId": "ca006d21-3ea8-4385-b8e9-f9fd864b1dc1"
      },
      "source": [
        "# Let's test the multi processing function first\n",
        "in_data = [(1, \"He was a diabetic patient\")]\n",
        "results = cat.multi_processing(in_data, nproc=2)\n",
        "print(results)"
      ],
      "execution_count": null,
      "outputs": [
        {
          "output_type": "stream",
          "text": [
            "[(1, {'entities': [{'cui': 'C0011847', 'tui': 'T047', 'type': 'Disease or Syndrome', 'source_value': 'diabetic', 'acc': '0.4698911047970945', 'start': 9, 'end': 17, 'id': '0', 'pretty_name': 'diabetes', 'icd10': '', 'umls': '', 'snomed': ''}], 'text': 'He was a diabetic patient'})]\n"
          ],
          "name": "stdout"
        }
      ]
    },
    {
      "cell_type": "markdown",
      "metadata": {
        "id": "YIw5f-SpyoPC"
      },
      "source": [
        "The returned list of `entities` contains the following:\n",
        "\n",
        "`cui` - ID of the detected entity in the CDB (in our case UMLS)\n",
        "\n",
        "`tui` - Semantic type ID\n",
        "\n",
        "`type` - Semantic type\n",
        "\n",
        "`source_value` - What exact source value was detected\n",
        "\n",
        "`acc` - Confidence score for this detection\n",
        "\n",
        "`start` - The start character for the entity in the original string\n",
        "\n",
        "`end` - End character for the entity in the original string\n",
        "\n",
        "`id` - Internal ID, each entity inside a document has an unique ID\n",
        "\n",
        "`pretty_name` - The pretty name for this entity linked with the CUI\n",
        "\n",
        "`icd10` - If we are using a medical CDB, we'll also get ICD10 codes\n",
        "\n",
        "`umls` - If the CDB was something other than UMLS, we would get the potential link to UMLS.\n",
        "\n",
        "`snomed` - If we ar eusing a medical CDB this would link to the equivalent SNOMED concept"
      ]
    },
    {
      "cell_type": "code",
      "metadata": {
        "id": "ietr5lx6yMMJ",
        "colab": {
          "base_uri": "https://localhost:8080/",
          "height": 34
        },
        "outputId": "b835e47d-4204-49fb-c5c5-827ab6e9c673"
      },
      "source": [
        "# If we have a use-case (like ours) where we do not care about anything else but the\n",
        "#detected CUI (ID of the concept), we can do the following:\n",
        "in_data = [(1, \"He was a diabetic patient\")]\n",
        "results = cat.multi_processing(in_data, nproc=2, only_cui=True)\n",
        "print(results)"
      ],
      "execution_count": null,
      "outputs": [
        {
          "output_type": "stream",
          "text": [
            "[(1, {'entities': ['C0011847'], 'text': 'He was a diabetic patient'})]\n"
          ],
          "name": "stdout"
        }
      ]
    },
    {
      "cell_type": "code",
      "metadata": {
        "scrolled": true,
        "id": "QwC8bYbXVff9",
        "colab": {
          "base_uri": "https://localhost:8080/",
          "height": 34
        },
        "outputId": "434ac255-7e42-4198-974c-84bedfe859cc"
      },
      "source": [
        "batch_size = 10000\n",
        "batch = []\n",
        "cnt = 0\n",
        "for id, row in data.iterrows():\n",
        "    text = row['text']\n",
        "    # Skip text if under 10 characters, not really necessary as we have filtered before,\n",
        "    #but I like to be sure.\n",
        "    if len(text) > 10:\n",
        "        batch.append((id, text))\n",
        "\n",
        "    if len(batch) > batch_size or id == len(data) - 1:\n",
        "        # Update the number of processors depending on your machine.\n",
        "        #We are using the only_cui option, means the\n",
        "        #returned entities will only have a CUI (no other information, try both\n",
        "        #if interested).\n",
        "        results = cat.multi_processing(batch, nproc=2, only_cui=True)\n",
        "\n",
        "        for pair in results:\n",
        "            row_id = pair[0]\n",
        "            cui_list = set(pair[1]['entities']) # Convert to set to get unique CUIs\n",
        "\n",
        "            for cui in cui_list:\n",
        "                if cui in cui_location:\n",
        "                    cui_location[cui].append(row_id)\n",
        "                else:\n",
        "                    cui_location[cui] = [row_id]\n",
        "\n",
        "                # This is not necessary as it can be done later, we have\n",
        "                #the cdb.cui2tui map. But whatever\n",
        "                tui = cdb.cui2tui[cui]\n",
        "                if tui in tui_location and row_id not in tui_location[tui]:\n",
        "                    tui_location[tui].append(row_id)\n",
        "                elif tui not in tui_location:\n",
        "                    tui_location[tui] = [row_id]\n",
        "\n",
        "        cnt += 1\n",
        "        print(\"Done: {} - rows\".format((cnt -1)*batch_size + len(batch)))\n",
        "\n",
        "        # Reset the batch\n",
        "        batch = []"
      ],
      "execution_count": null,
      "outputs": [
        {
          "output_type": "stream",
          "text": [
            "Done: 1088 - rows\n"
          ],
          "name": "stdout"
        }
      ]
    },
    {
      "cell_type": "markdown",
      "metadata": {
        "id": "p3ykzPULg8Y4"
      },
      "source": [
        "In this case we did not care about the full results from medcat, we only needed to know for each CUI (disease ID), where it appeared."
      ]
    },
    {
      "cell_type": "code",
      "metadata": {
        "id": "7PxUejjbgWAX",
        "colab": {
          "base_uri": "https://localhost:8080/",
          "height": 428
        },
        "outputId": "96ce0acb-5f20-40ca-84a3-9f40f58ff8bc"
      },
      "source": [
        "# Check one of the returned results, just in case\n",
        "results[0]"
      ],
      "execution_count": null,
      "outputs": [
        {
          "output_type": "execute_result",
          "data": {
            "text/plain": [
              "(100,\n",
              " {'entities': ['C0020538',\n",
              "   'C0020538',\n",
              "   'C0020538',\n",
              "   'C0085207',\n",
              "   'C0010054',\n",
              "   'C0010054',\n",
              "   'C0242510',\n",
              "   'C0020538',\n",
              "   'C0085207',\n",
              "   'C0013537',\n",
              "   'C0017601',\n",
              "   'C0018799',\n",
              "   'C0085612',\n",
              "   'C0032285',\n",
              "   'C0085606',\n",
              "   'C0003864',\n",
              "   'C0027765',\n",
              "   'C0012634',\n",
              "   'C0020538',\n",
              "   'C0018799',\n",
              "   'C0085207'],\n",
              "  'text': 'REASON FOR CONSULTATION: , Management of blood pressure.,HISTORY OF PRESENT ILLNESS: , The patient is a 38-year-old female admitted following a delivery.  The patient had a cesarean section.  Following this, the patient was treated for her blood pressure.  She was sent home and she came back again apparently with uncontrolled blood pressure.  She is on multiple medications, unable to control the blood pressure.  From cardiac standpoint, the patient denies any symptoms of chest pain, or shortness of breath.  She complains of fatigue and tiredness.  The child had some congenital anomaly, was transferred to Hospital, where the child has had surgery.  The patient is in intensive care unit.,CORONARY RISK FACTORS:,  History of hypertension, history of gestational diabetes mellitus, nonsmoker, and cholesterol is normal.  No history of established coronary artery disease and family history noncontributory for coronary disease.,FAMILY HISTORY: , Nonsignificant.,SURGICAL HISTORY:  ,No major surgery except for C-section.,MEDICATIONS:,  Presently on Cardizem and metoprolol were discontinued.  Started on hydralazine 50 mg t.i.d., and labetalol 200 mg b.i.d., hydrochlorothiazide, and insulin supplementation.,ALLERGIES: , None.,PERSONAL HISTORY: , Nonsmoker.  Does not consume alcohol.  No history of recreational drug use.,PAST MEDICAL HISTORY:,  Hypertension, gestational diabetes mellitus, pre-eclampsia, this is her third child with one miscarriage.,REVIEW OF SYSTEMS:,CONSTITUTIONAL:  No history of fever, rigors, or chills.,HEENT:  No history of cataract, blurry vision, or glaucoma.,CARDIOVASCULAR:  No congestive heart.  No arrhythmia.,RESPIRATORY:  No history of pneumonia or valley fever.,GASTROINTESTINAL:  No epigastric discomfort, hematemesis, or melena.,UROLOGIC:  No frequency or urgency.,MUSCULOSKELETAL:  No arthritis or muscle weakness.,SKIN:  Nonsignificant.,NEUROLOGICAL:  No TIA.  No CVA.  No seizure disorder.,PHYSICAL EXAMINATION:,VITAL SIGNS:  Pulse of 86, blood pressure 175/86, afebrile, and respiratory rate 16 per minute.,HEENT:  Atraumatic and normocephalic.,NECK:  Neck veins are flat.,LUNGS:  Clear.,HEART:  S1 and S2 regular.,ABDOMEN:  Soft and nontender.,EXTREMITIES:  No edema.  Pulses palpable.,LABORATORY DATA: , EKG shows sinus tachycardia with nonspecific ST-T changes.  Labs were noted.  BUN and creatinine within normal limits.,IMPRESSION:,1.  Preeclampsia, status post delivery with Cesarean section with uncontrolled blood pressure.,2.  No prior history of cardiac disease except for borderline gestational diabetes mellitus.,RECOMMENDATIONS:,1.  We will get an echocardiogram for assessment left ventricular function.,2.  The patient will start on labetalol and hydralazine to see how see fairs.,3.  Based on response to medication, we will make further adjustments.  Discussed with the patient regarding plan of care, fully understands and consents for the same.  All the questions answered in detail.'})"
            ]
          },
          "metadata": {
            "tags": []
          },
          "execution_count": 19
        }
      ]
    },
    {
      "cell_type": "code",
      "metadata": {
        "id": "0IN7FeHbhF5Y",
        "colab": {
          "base_uri": "https://localhost:8080/",
          "height": 34
        },
        "outputId": "e48fd94c-2cd1-46d0-f96e-f0b850ac6afc"
      },
      "source": [
        "# If we want to convert a CUI back to its name\n",
        "cdb.cui2pretty_name['C0009324']"
      ],
      "execution_count": null,
      "outputs": [
        {
          "output_type": "execute_result",
          "data": {
            "text/plain": [
              "'ulcerative colitis'"
            ]
          },
          "metadata": {
            "tags": []
          },
          "execution_count": 20
        }
      ]
    },
    {
      "cell_type": "code",
      "metadata": {
        "id": "_7lSXtHEVfgA"
      },
      "source": [
        "# Save the data so that we don't have to do the annotation again\n",
        "import pickle\n",
        "pickle.dump(cui_location, open(DATA_DIR + \"cui_location.dat\", 'wb'))\n",
        "pickle.dump(tui_location, open(DATA_DIR + \"tui_location.dat\", 'wb'))"
      ],
      "execution_count": null,
      "outputs": []
    },
    {
      "cell_type": "code",
      "metadata": {
        "id": "Am1xTX25VfgC"
      },
      "source": [
        "# Load\n",
        "import pickle\n",
        "cui_location = pickle.load(open(DATA_DIR + \"cui_location.dat\", 'rb'))\n",
        "tui_location = pickle.load(open(DATA_DIR + \"tui_location.dat\", 'rb'))"
      ],
      "execution_count": null,
      "outputs": []
    },
    {
      "cell_type": "markdown",
      "metadata": {
        "id": "1fkbtINHVfgF"
      },
      "source": [
        "## Plot a couple of things\n",
        "This is not necessary at this stage, but to be sure things are ok we will still do it"
      ]
    },
    {
      "cell_type": "code",
      "metadata": {
        "id": "8lrAhiODVfgF"
      },
      "source": [
        "# We are going to count the number of subjects (patietns) for each CUI\n",
        "cui_subjects = {}\n",
        "cui_subjects_unique = {}\n",
        "for cui in cui_location:\n",
        "    for location in cui_location[cui]:\n",
        "        subject_id = data.iat[location, list(data.columns).index('subject_id')]\n",
        "        if cui in cui_subjects:\n",
        "            cui_subjects[cui].append(subject_id)\n",
        "            cui_subjects_unique[cui].add(subject_id)\n",
        "        else:\n",
        "            cui_subjects[cui] = [subject_id]\n",
        "            cui_subjects_unique[cui] = {subject_id}"
      ],
      "execution_count": null,
      "outputs": []
    },
    {
      "cell_type": "code",
      "metadata": {
        "id": "8u6jOrsJVfgH"
      },
      "source": [
        "cui_nsubjects = [('cui', 'nsubjects')]\n",
        "for cui in cui_subjects_unique.keys():\n",
        "    cui_nsubjects.append((cui, len(cui_subjects_unique[cui])))\n",
        "df_cui_nsubjects = pd.DataFrame(cui_nsubjects[1:], columns=cui_nsubjects[0])"
      ],
      "execution_count": null,
      "outputs": []
    },
    {
      "cell_type": "markdown",
      "metadata": {
        "id": "0P1YlxKwVfgJ"
      },
      "source": [
        "Add a couple of columns that can be useful"
      ]
    },
    {
      "cell_type": "code",
      "metadata": {
        "id": "bgMVLkQLVfgK",
        "colab": {
          "base_uri": "https://localhost:8080/",
          "height": 204
        },
        "outputId": "20fa7cd5-33ec-488e-e37d-fc91c272d343"
      },
      "source": [
        "df_cui_nsubjects = df_cui_nsubjects.sort_values('nsubjects', ascending=False)\n",
        "# Add TUI for each CUI\n",
        "df_cui_nsubjects['tui'] = ['unk'] * len(df_cui_nsubjects)\n",
        "cols = list(df_cui_nsubjects.columns)\n",
        "for i in range(len(df_cui_nsubjects)):\n",
        "    cui = df_cui_nsubjects.iat[i, cols.index('cui')]\n",
        "    tui = cdb.cui2tui.get(cui, 'unk')\n",
        "    df_cui_nsubjects.iat[i, cols.index('tui')] = tui\n",
        "\n",
        "# Add name for each CUI\n",
        "df_cui_nsubjects['name'] = ['unk'] * len(df_cui_nsubjects)\n",
        "cols = list(df_cui_nsubjects.columns)\n",
        "for i in range(len(df_cui_nsubjects)):\n",
        "    cui = df_cui_nsubjects.iat[i, cols.index('cui')]\n",
        "    name = cdb.cui2pretty_name.get(cui, 'unk')\n",
        "    df_cui_nsubjects.iat[i, cols.index('name')] = name\n",
        "\n",
        "\n",
        "# Add the percentage column\n",
        "total_subjects = len(data['subject_id'].unique())\n",
        "df_cui_nsubjects['perc_subjects'] = (df_cui_nsubjects['nsubjects'] / total_subjects) * 100\n",
        "\n",
        "df_cui_nsubjects.head()"
      ],
      "execution_count": null,
      "outputs": [
        {
          "output_type": "execute_result",
          "data": {
            "text/html": [
              "<div>\n",
              "<style scoped>\n",
              "    .dataframe tbody tr th:only-of-type {\n",
              "        vertical-align: middle;\n",
              "    }\n",
              "\n",
              "    .dataframe tbody tr th {\n",
              "        vertical-align: top;\n",
              "    }\n",
              "\n",
              "    .dataframe thead th {\n",
              "        text-align: right;\n",
              "    }\n",
              "</style>\n",
              "<table border=\"1\" class=\"dataframe\">\n",
              "  <thead>\n",
              "    <tr style=\"text-align: right;\">\n",
              "      <th></th>\n",
              "      <th>cui</th>\n",
              "      <th>nsubjects</th>\n",
              "      <th>tui</th>\n",
              "      <th>name</th>\n",
              "      <th>perc_subjects</th>\n",
              "    </tr>\n",
              "  </thead>\n",
              "  <tbody>\n",
              "    <tr>\n",
              "      <th>12</th>\n",
              "      <td>C0020538</td>\n",
              "      <td>117</td>\n",
              "      <td>T047</td>\n",
              "      <td>hypertension</td>\n",
              "      <td>64.285714</td>\n",
              "    </tr>\n",
              "    <tr>\n",
              "      <th>4</th>\n",
              "      <td>C0012634</td>\n",
              "      <td>66</td>\n",
              "      <td>T047</td>\n",
              "      <td>disease</td>\n",
              "      <td>36.263736</td>\n",
              "    </tr>\n",
              "    <tr>\n",
              "      <th>10</th>\n",
              "      <td>C0018799</td>\n",
              "      <td>59</td>\n",
              "      <td>T047</td>\n",
              "      <td>heart diseases</td>\n",
              "      <td>32.417582</td>\n",
              "    </tr>\n",
              "    <tr>\n",
              "      <th>1</th>\n",
              "      <td>C0010054</td>\n",
              "      <td>55</td>\n",
              "      <td>T047</td>\n",
              "      <td>Coronary Artery Disease</td>\n",
              "      <td>30.219780</td>\n",
              "    </tr>\n",
              "    <tr>\n",
              "      <th>6</th>\n",
              "      <td>C0242510</td>\n",
              "      <td>55</td>\n",
              "      <td>T048</td>\n",
              "      <td>drug use</td>\n",
              "      <td>30.219780</td>\n",
              "    </tr>\n",
              "  </tbody>\n",
              "</table>\n",
              "</div>"
            ],
            "text/plain": [
              "         cui  nsubjects   tui                     name  perc_subjects\n",
              "12  C0020538        117  T047             hypertension      64.285714\n",
              "4   C0012634         66  T047                  disease      36.263736\n",
              "10  C0018799         59  T047           heart diseases      32.417582\n",
              "1   C0010054         55  T047  Coronary Artery Disease      30.219780\n",
              "6   C0242510         55  T048                 drug use      30.219780"
            ]
          },
          "metadata": {
            "tags": []
          },
          "execution_count": 25
        }
      ]
    },
    {
      "cell_type": "code",
      "metadata": {
        "scrolled": false,
        "id": "TupbSS6OVfgM",
        "colab": {
          "base_uri": "https://localhost:8080/",
          "height": 1000
        },
        "outputId": "71247704-e82b-4d3f-f001-c7f8996b6fa5"
      },
      "source": [
        "# Plot the top 30 diseases\n",
        "sns.reset_defaults()\n",
        "sns.set(\n",
        "    rc={'figure.figsize':(5,12)},\n",
        "    style=\"whitegrid\",\n",
        "    palette='pastel'\n",
        ")\n",
        "f, ax = plt.subplots()\n",
        "_data = df_cui_nsubjects.iloc[0:30]\n",
        "sns.barplot(x=\"perc_subjects\", y=\"name\", data=_data, label=\"Disorder Name\", color=\"b\")\n",
        "_ = ax.set(xlim=(0, 70), ylabel=\"Disease Name\", xlabel=\"Percentage of patients with disease\")\n",
        "plt.show()"
      ],
      "execution_count": null,
      "outputs": [
        {
          "output_type": "display_data",
          "data": {
            "image/png": "[encoded data removed]",
            "text/plain": [
              "<Figure size 500x1200 with 1 Axes>"
            ]
          },
          "metadata": {
            "tags": []
          }
        }
      ]
    },
    {
      "cell_type": "markdown",
      "metadata": {
        "id": "-ChkW6MiVfgO"
      },
      "source": [
        "## Preparing data for supervised training (MedCATtrainer)\n",
        "\n",
        "As we want to do some fine-tuning on the models and also some meta-annotations (e.g. Status and Temporality), we'll take the top 100 CUIs from each TUI and for each take 2 examples. We'll do this because randomly choosing documents will give us only (most likely) the concpets on the very top by frequency (especially when there is a large drop between the top concepts).\n",
        "\n",
        "The required output format for supervised training via MedCATtrainer is CSV with `columns=(name, text)`"
      ]
    },
    {
      "cell_type": "code",
      "metadata": {
        "id": "ghSpoAbJVfgO"
      },
      "source": [
        "# For each of the top 30 diseases/mental_disorders take 2 examples of documents/text\n",
        "#where they appear\n",
        "nexamples = 2\n",
        "size = 40\n",
        "loc_047_top = []\n",
        "loc_048_top = []\n",
        "\n",
        "for cui in df_cui_nsubjects[df_cui_nsubjects['tui'] == 'T047']['cui'].values[0:size]:\n",
        "    loc_047_top.extend(np.array(cui_location[cui])[np.random.randint(0, len(cui_location[cui]), nexamples)])\n",
        "\n",
        "for cui in df_cui_nsubjects[df_cui_nsubjects['tui'] == 'T048']['cui'].values[0:size]:\n",
        "    loc_048_top.extend(np.array(cui_location[cui])[np.random.randint(0, len(cui_location[cui]), nexamples)])\n",
        "\n",
        "data_047_top = data.iloc[loc_047_top]\n",
        "data_048_top = data.iloc[loc_048_top]"
      ],
      "execution_count": null,
      "outputs": []
    },
    {
      "cell_type": "code",
      "metadata": {
        "id": "7L8UhCSsVfgQ"
      },
      "source": [
        "# Combine everything\n",
        "train_data = pd.concat([data_047_top, data_048_top])"
      ],
      "execution_count": null,
      "outputs": []
    },
    {
      "cell_type": "code",
      "metadata": {
        "id": "n-ds8nosVfgR",
        "colab": {
          "base_uri": "https://localhost:8080/",
          "height": 204
        },
        "outputId": "c6eb44db-fe32-496c-9854-83b7ab195200"
      },
      "source": [
        "train_data = train_data.rename(columns={'Unnamed: 0_x': \"name\"})\n",
        "train_data = train_data[['name', 'text']]\n",
        "train_data.head()"
      ],
      "execution_count": null,
      "outputs": [
        {
          "output_type": "execute_result",
          "data": {
            "text/html": [
              "<div>\n",
              "<style scoped>\n",
              "    .dataframe tbody tr th:only-of-type {\n",
              "        vertical-align: middle;\n",
              "    }\n",
              "\n",
              "    .dataframe tbody tr th {\n",
              "        vertical-align: top;\n",
              "    }\n",
              "\n",
              "    .dataframe thead th {\n",
              "        text-align: right;\n",
              "    }\n",
              "</style>\n",
              "<table border=\"1\" class=\"dataframe\">\n",
              "  <thead>\n",
              "    <tr style=\"text-align: right;\">\n",
              "      <th></th>\n",
              "      <th>name</th>\n",
              "      <th>text</th>\n",
              "    </tr>\n",
              "  </thead>\n",
              "  <tbody>\n",
              "    <tr>\n",
              "      <th>862</th>\n",
              "      <td>1687</td>\n",
              "      <td>SUBJECTIVE: , The patient is a 60-year-old fem...</td>\n",
              "    </tr>\n",
              "    <tr>\n",
              "      <th>841</th>\n",
              "      <td>1605</td>\n",
              "      <td>CHIEF COMPLAINT: , Chest pain and fever.,HISTO...</td>\n",
              "    </tr>\n",
              "    <tr>\n",
              "      <th>241</th>\n",
              "      <td>466</td>\n",
              "      <td>HISTORY OF PRESENT ILLNESS: , The patient is a...</td>\n",
              "    </tr>\n",
              "    <tr>\n",
              "      <th>749</th>\n",
              "      <td>1383</td>\n",
              "      <td>CHIEF COMPLAINT:,  Toothache.,HISTORY OF PRESE...</td>\n",
              "    </tr>\n",
              "    <tr>\n",
              "      <th>468</th>\n",
              "      <td>898</td>\n",
              "      <td>HISTORY: , A 34-year-old male presents today s...</td>\n",
              "    </tr>\n",
              "  </tbody>\n",
              "</table>\n",
              "</div>"
            ],
            "text/plain": [
              "     name                                               text\n",
              "862  1687  SUBJECTIVE: , The patient is a 60-year-old fem...\n",
              "841  1605  CHIEF COMPLAINT: , Chest pain and fever.,HISTO...\n",
              "241   466  HISTORY OF PRESENT ILLNESS: , The patient is a...\n",
              "749  1383  CHIEF COMPLAINT:,  Toothache.,HISTORY OF PRESE...\n",
              "468   898  HISTORY: , A 34-year-old male presents today s..."
            ]
          },
          "metadata": {
            "tags": []
          },
          "execution_count": 37
        }
      ]
    },
    {
      "cell_type": "code",
      "metadata": {
        "id": "HvrkaDbBVfgU"
      },
      "source": [
        "# Remove duplicates if we have them.\n",
        "train_data = train_data.drop_duplicates(['text'])\n",
        "\n",
        "# Save the data so that it can be imported into MedCATtrainer\n",
        "train_data.to_csv(DATA_DIR + \"train_data.csv\", index=False)"
      ],
      "execution_count": null,
      "outputs": []
    }
  ]
}